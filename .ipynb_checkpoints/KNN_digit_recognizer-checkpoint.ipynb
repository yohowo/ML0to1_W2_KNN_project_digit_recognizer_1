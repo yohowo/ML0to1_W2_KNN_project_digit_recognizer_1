{
 "cells": [
  {
   "cell_type": "code",
   "execution_count": 21,
   "metadata": {
    "collapsed": true
   },
   "outputs": [],
   "source": [
    "import numpy as np\n",
    "import pandas as pd #csv DB\n",
    "import matplotlib.pyplot as plt #drawing"
   ]
  },
  {
   "cell_type": "code",
   "execution_count": 33,
   "metadata": {},
   "outputs": [
    {
     "name": "stdout",
     "output_type": "stream",
     "text": [
      "(5000, 784)\n",
      "(5000,)\n"
     ]
    }
   ],
   "source": [
    "def load_data(train_row):\n",
    "    train = pd.read_csv(\"train.csv\") # read data set\n",
    "    #print(train.shape)\n",
    "    #print(train.head())\n",
    "    #train_row = 5000\n",
    "    X_train = train.values[0:train_row, 1:] #row, column --> get value\n",
    "    Y_train = train.values[0:train_row, 0] #get lable\n",
    "    print (X_train.shape)\n",
    "    print (Y_train.shape)\n",
    "    Pred_test = pd.read_csv(\"test.csv\")\n",
    "    \n",
    "    #print(Pred_test.shape)\n",
    "    return X_train, Y_train, Pred_test\n",
    "\n",
    "train_row = 5000\n",
    "Origin_x_train, Origin_y_train, Origin_y_test = load_data(train_row)\n"
   ]
  },
  {
   "cell_type": "code",
   "execution_count": 24,
   "metadata": {},
   "outputs": [
    {
     "name": "stdout",
     "output_type": "stream",
     "text": [
      "(5000, 784) (5000,) (28000, 784)\n",
      "[[0 0 0 ..., 0 0 0]\n",
      " [0 0 0 ..., 0 0 0]\n",
      " [0 0 0 ..., 0 0 0]\n",
      " ..., \n",
      " [0 0 0 ..., 0 0 0]\n",
      " [0 0 0 ..., 0 0 0]\n",
      " [0 0 0 ..., 0 0 0]]\n"
     ]
    }
   ],
   "source": [
    "print(Origin_x_train.shape, Origin_y_train.shape, Origin_y_test.shape)\n",
    "print(Origin_x_train)"
   ]
  },
  {
   "cell_type": "code",
   "execution_count": 34,
   "metadata": {},
   "outputs": [
    {
     "name": "stdout",
     "output_type": "stream",
     "text": [
      "[  0   0   0   0   0   0   0   0   0   0   0   0   0   0   0   0   0   0\n",
      "   0   0   0   0   0   0   0   0   0   0   0   0   0   0   0   0   0   0\n",
      "   0   0   0   0   0   0   0   0   0   0   0   0   0   0   0   0   0   0\n",
      "   0   0   0   0   0   0   0   0   0   0   0   0   0   0   0   0   0   0\n",
      "   0   0   0   0   0   0   0   0   0   0   0   0   0   0   0   0   0   0\n",
      "   0   0   0   0   0   0   0   0   0   0   0   0   0   0   0   0   0   0\n",
      "   0   0   0   0   0   0   0   0   0   0   0   0   0   0   0   0   0   0\n",
      "   0   0   0   0   0   0   0   0   0   0   0   0   0   0   0   0   0   0\n",
      "   0   0 220 179   6   0   0   0   0   0   0   0   0   9  77   0   0   0\n",
      "   0   0   0   0   0   0   0   0   0   0   0   0  28 247  17   0   0   0\n",
      "   0   0   0   0   0  27 202   0   0   0   0   0   0   0   0   0   0   0\n",
      "   0   0   0   0   0 242 155   0   0   0   0   0   0   0   0  27 254  63\n",
      "   0   0   0   0   0   0   0   0   0   0   0   0   0   0   0 160 207   6\n",
      "   0   0   0   0   0   0   0  27 254  65   0   0   0   0   0   0   0   0\n",
      "   0   0   0   0   0   0   0 127 254  21   0   0   0   0   0   0   0  20\n",
      " 239  65   0   0   0   0   0   0   0   0   0   0   0   0   0   0   0  77\n",
      " 254  21   0   0   0   0   0   0   0   0 195  65   0   0   0   0   0   0\n",
      "   0   0   0   0   0   0   0   0   0  70 254  21   0   0   0   0   0   0\n",
      "   0   0 195 142   0   0   0   0   0   0   0   0   0   0   0   0   0   0\n",
      "   0  56 251  21   0   0   0   0   0   0   0   0 195 227   0   0   0   0\n",
      "   0   0   0   0   0   0   0   0   0   0   0   0 222 153   5   0   0   0\n",
      "   0   0   0   0 120 240  13   0   0   0   0   0   0   0   0   0   0   0\n",
      "   0   0   0   0  67 251  40   0   0   0   0   0   0   0  94 255  69   0\n",
      "   0   0   0   0   0   0   0   0   0   0   0   0   0   0   0 234 184   0\n",
      "   0   0   0   0   0   0  19 245  69   0   0   0   0   0   0   0   0   0\n",
      "   0   0   0   0   0   0   0 234 169   0   0   0   0   0   0   0   3 199\n",
      " 182  10   0   0   0   0   0   0   0   0   0   0   0   0   0   0   0 154\n",
      " 205   4   0   0  26  72 128 203 208 254 254 131   0   0   0   0   0   0\n",
      "   0   0   0   0   0   0   0   0   0  61 254 129 113 186 245 251 189  75\n",
      "  56 136 254  73   0   0   0   0   0   0   0   0   0   0   0   0   0   0\n",
      "   0  15 216 233 233 159 104  52   0   0   0  38 254  73   0   0   0   0\n",
      "   0   0   0   0   0   0   0   0   0   0   0   0   0   0   0   0   0   0\n",
      "   0   0   0  18 254  73   0   0   0   0   0   0   0   0   0   0   0   0\n",
      "   0   0   0   0   0   0   0   0   0   0   0   0   0  18 254  73   0   0\n",
      "   0   0   0   0   0   0   0   0   0   0   0   0   0   0   0   0   0   0\n",
      "   0   0   0   0   0   5 206 106   0   0   0   0   0   0   0   0   0   0\n",
      "   0   0   0   0   0   0   0   0   0   0   0   0   0   0   0   0 186 159\n",
      "   0   0   0   0   0   0   0   0   0   0   0   0   0   0   0   0   0   0\n",
      "   0   0   0   0   0   0   0   6 209 101   0   0   0   0   0   0   0   0\n",
      "   0   0   0   0   0   0   0   0   0   0   0   0   0   0   0   0   0   0\n",
      "   0   0   0   0   0   0   0   0   0   0   0   0   0   0   0   0   0   0\n",
      "   0   0   0   0   0   0   0   0   0   0   0   0   0   0   0   0   0   0\n",
      "   0   0   0   0   0   0   0   0   0   0   0   0   0   0   0   0   0   0\n",
      "   0   0   0   0   0   0   0   0   0   0]\n"
     ]
    },
    {
     "data": {
      "image/png": "[encoded data removed]",
      "text/plain": [
       "<matplotlib.figure.Figure at 0x1075eea90>"
      ]
     },
     "metadata": {},
     "output_type": "display_data"
    }
   ],
   "source": [
    "import matplotlib\n",
    "import matplotlib.pyplot as plt\n",
    "\n",
    "row = 3\n",
    "print (Origin_4_train[row])\n",
    "print (Origin_x_train[row])\n",
    "\n",
    "\n",
    "plt.imshow(Origin_x_train[row].reshape((28, 28)))\n",
    "plt.show()"
   ]
  },
  {
   "cell_type": "code",
   "execution_count": null,
   "metadata": {
    "collapsed": true
   },
   "outputs": [],
   "source": []
  }
 ],
 "metadata": {
  "kernelspec": {
   "display_name": "Python 3",
   "language": "python",
   "name": "python3"
  },
  "language_info": {
   "codemirror_mode": {
    "name": "ipython",
    "version": 3
   },
   "file_extension": ".py",
   "mimetype": "text/x-python",
   "name": "python",
   "nbconvert_exporter": "python",
   "pygments_lexer": "ipython3",
   "version": "3.6.3"
  }
 },
 "nbformat": 4,
 "nbformat_minor": 2
}
